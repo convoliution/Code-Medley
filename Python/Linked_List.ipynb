{
 "cells": [
  {
   "cell_type": "markdown",
   "metadata": {},
   "source": [
    "Inspired by https://aphyr.com/posts/340-acing-the-technical-interview"
   ]
  },
  {
   "cell_type": "markdown",
   "metadata": {},
   "source": [
    "# Functions Are Objects, Aren't They?"
   ]
  },
  {
   "cell_type": "code",
   "execution_count": 1,
   "metadata": {},
   "outputs": [],
   "source": [
    "def cons(value, next_):\n",
    "    return lambda get: value if get else next_\n",
    "\n",
    "linked_list = cons(0, cons(1, cons(2, cons(3, cons(4, ())))))"
   ]
  },
  {
   "cell_type": "markdown",
   "metadata": {},
   "source": [
    "I'm using the empty tuple `()` to represent `nil`, since I feel that it's closer to the bottom type than `None` in Python."
   ]
  },
  {
   "cell_type": "markdown",
   "metadata": {},
   "source": [
    "# Traversal"
   ]
  },
  {
   "cell_type": "code",
   "execution_count": 2,
   "metadata": {},
   "outputs": [
    {
     "data": {
      "text/plain": [
       "3"
      ]
     },
     "execution_count": 2,
     "metadata": {},
     "output_type": "execute_result"
    }
   ],
   "source": [
    "def nth(l, n):\n",
    "    return nth(l(False), n - 1) if n else l(True)\n",
    "\n",
    "nth(linked_list, 3)"
   ]
  },
  {
   "cell_type": "markdown",
   "metadata": {},
   "source": [
    "We'll get a `TypeError` when we go out of bounds, which I think is fine because manual bounds checking would just entail catching it and raising an `IndexError` anyway."
   ]
  },
  {
   "cell_type": "markdown",
   "metadata": {},
   "source": [
    "# Printing"
   ]
  },
  {
   "cell_type": "code",
   "execution_count": 3,
   "metadata": {},
   "outputs": [
    {
     "name": "stdout",
     "output_type": "stream",
     "text": [
      "[ 0 1 2 3 4 ]\n"
     ]
    }
   ],
   "source": [
    "def prn_list(l):\n",
    "    print(\"[\", end=' ')\n",
    "    while l is not ():\n",
    "        print(l(True), end=' ')\n",
    "        l = l(False)\n",
    "    else:\n",
    "        print(\"]\")\n",
    "        \n",
    "prn_list(linked_list)"
   ]
  },
  {
   "cell_type": "markdown",
   "metadata": {},
   "source": [
    "Requires more than one line, unfortunately."
   ]
  },
  {
   "cell_type": "markdown",
   "metadata": {},
   "source": [
    "# Reversal"
   ]
  },
  {
   "cell_type": "code",
   "execution_count": 4,
   "metadata": {
    "scrolled": true
   },
   "outputs": [
    {
     "name": "stdout",
     "output_type": "stream",
     "text": [
      "[ 4 3 2 1 0 ]\n"
     ]
    }
   ],
   "source": [
    "def reverse(l, rl=()):\n",
    "    return reverse(l(False), cons(l(True), rl)) if l is not () else rl\n",
    "    \n",
    "prn_list(reverse(linked_list))"
   ]
  },
  {
   "cell_type": "markdown",
   "metadata": {},
   "source": [
    "Requires only one line, fortunately (depending on your opinions regarding Python styling)!"
   ]
  }
 ],
 "metadata": {
  "kernelspec": {
   "display_name": "Python 3",
   "language": "python",
   "name": "python3"
  },
  "language_info": {
   "codemirror_mode": {
    "name": "ipython",
    "version": 3
   },
   "file_extension": ".py",
   "mimetype": "text/x-python",
   "name": "python",
   "nbconvert_exporter": "python",
   "pygments_lexer": "ipython3",
   "version": "3.6.5"
  }
 },
 "nbformat": 4,
 "nbformat_minor": 2
}
